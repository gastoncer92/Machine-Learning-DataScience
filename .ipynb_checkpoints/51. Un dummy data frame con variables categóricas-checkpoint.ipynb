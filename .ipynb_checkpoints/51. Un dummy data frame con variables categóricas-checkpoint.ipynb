{
 "cells": [
  {
   "cell_type": "markdown",
   "id": "8ce27ebb-3dca-4817-b928-118a137e56a1",
   "metadata": {},
   "source": [
    "# Agregación de datos por categoría"
   ]
  },
  {
   "cell_type": "code",
   "execution_count": 1,
   "id": "8b588145-1cb9-4af7-b095-105e2d2df2ea",
   "metadata": {},
   "outputs": [],
   "source": [
    "import numpy as np\n",
    "import pandas as pd"
   ]
  },
  {
   "cell_type": "code",
   "execution_count": 2,
   "id": "2e052b55-989c-406b-9c2b-8e4ff70f9a59",
   "metadata": {},
   "outputs": [],
   "source": [
    "gender = [\"Male\",\"Female\"]\n",
    "income = [\"Poor\",\"Middle Class\",\"Rich\"]"
   ]
  },
  {
   "cell_type": "code",
   "execution_count": 3,
   "id": "4bae2fee-5cd2-4f14-9ee7-b9af91cf21e0",
   "metadata": {},
   "outputs": [],
   "source": [
    "n = 500\n",
    "gender_data = []\n",
    "income_data = []\n",
    "for i in range(0,500):\n",
    "    gender_data.append(np.random.choice(gender))\n",
    "    income_data.append(np.random.choice(income))"
   ]
  },
  {
   "cell_type": "code",
   "execution_count": 4,
   "id": "0784d8f2-6df3-4f1f-bb9c-38fe44786a6c",
   "metadata": {},
   "outputs": [
    {
     "data": {
      "text/plain": [
       "['Female', 'Male', 'Female', 'Male']"
      ]
     },
     "execution_count": 4,
     "metadata": {},
     "output_type": "execute_result"
    }
   ],
   "source": [
    "gender_data[0:4]"
   ]
  },
  {
   "cell_type": "code",
   "execution_count": 5,
   "id": "be879b40-ac4c-4acd-a14a-50f4a8a335e7",
   "metadata": {},
   "outputs": [
    {
     "data": {
      "text/plain": [
       "['Poor', 'Poor', 'Rich', 'Poor', 'Poor', 'Middle Class']"
      ]
     },
     "execution_count": 5,
     "metadata": {},
     "output_type": "execute_result"
    }
   ],
   "source": [
    "income_data[0:6]"
   ]
  },
  {
   "cell_type": "markdown",
   "id": "77776aea-afdf-4cb6-bf39-cb04ab4caa73",
   "metadata": {},
   "source": [
    "# OPerajs'''''"
   ]
  }
 ],
 "metadata": {
  "kernelspec": {
   "display_name": "Python 3 (ipykernel)",
   "language": "python",
   "name": "python3"
  },
  "language_info": {
   "codemirror_mode": {
    "name": "ipython",
    "version": 3
   },
   "file_extension": ".py",
   "mimetype": "text/x-python",
   "name": "python",
   "nbconvert_exporter": "python",
   "pygments_lexer": "ipython3",
   "version": "3.8.12"
  }
 },
 "nbformat": 4,
 "nbformat_minor": 5
}
