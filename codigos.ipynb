{
 "cells": [
  {
   "cell_type": "code",
   "execution_count": 2,
   "id": "eaea42fd-9250-4325-b8d3-124bf17e7293",
   "metadata": {},
   "outputs": [],
   "source": [
    "def search_phone_state(phone_number_start,state,dataframe_path,separator):\n",
    "    \"\"\"\n",
    "    retorna los registros cuyos numero de teléfono empiencen con un phone_number_start y que sean de state\n",
    "    \"\"\"\n",
    "    dataframe=pd.read_csv(filepath_or_buffer=dataframe_path, sep=separator,header=0)\n",
    "    return dataframe[(pd.Series(dataframe[\"Phone\"].values.tolist()).str.startswith(phone_number_start, na=\"False\"))& (dataframe[\"State\"]==state)]    "
   ]
  },
  {
   "cell_type": "code",
   "execution_count": 4,
   "id": "642b7b73-11c1-443c-b684-cf4583e83f31",
   "metadata": {},
   "outputs": [],
   "source": [
    "def createDummies(df,var_name):\n",
    "    \"\"\"\n",
    "    retorna un dataset nuevo con los valores dummiados\n",
    "    parametros:\n",
    "        df (dataset): el dataset a optimizar\n",
    "        var_name (str): el campo a optimizar\n",
    "    \"\"\"\n",
    "    dummie=pd.get_dummies(df[var_name], prefix=var_name)\n",
    "    df=df.drop(var_name,axis=1)\n",
    "    df=pd.concat([df,dummie],axis=1)   \n",
    "    return df"
   ]
  },
  {
   "cell_type": "code",
   "execution_count": null,
   "id": "640bfdb5-b649-43f0-8c44-677e60904ae3",
   "metadata": {},
   "outputs": [],
   "source": []
  }
 ],
 "metadata": {
  "kernelspec": {
   "display_name": "Python 3 (ipykernel)",
   "language": "python",
   "name": "python3"
  },
  "language_info": {
   "codemirror_mode": {
    "name": "ipython",
    "version": 3
   },
   "file_extension": ".py",
   "mimetype": "text/x-python",
   "name": "python",
   "nbconvert_exporter": "python",
   "pygments_lexer": "ipython3",
   "version": "3.8.12"
  }
 },
 "nbformat": 4,
 "nbformat_minor": 5
}
