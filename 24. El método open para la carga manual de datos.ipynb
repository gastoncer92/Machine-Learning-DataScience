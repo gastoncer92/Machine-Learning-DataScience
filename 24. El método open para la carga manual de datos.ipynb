{
 "cells": [
  {
   "cell_type": "markdown",
   "id": "bcae92df",
   "metadata": {},
   "source": [
    "# Carga de datos a través de la función open\n",
    "lee linea a a linea, asi se cuida la memoria del dispositivo."
   ]
  },
  {
   "cell_type": "code",
   "execution_count": null,
   "id": "e50f719d",
   "metadata": {},
   "outputs": [],
   "source": []
  }
 ],
 "metadata": {
  "kernelspec": {
   "display_name": "Python 3 (ipykernel)",
   "language": "python",
   "name": "python3"
  },
  "language_info": {
   "codemirror_mode": {
    "name": "ipython",
    "version": 3
   },
   "file_extension": ".py",
   "mimetype": "text/x-python",
   "name": "python",
   "nbconvert_exporter": "python",
   "pygments_lexer": "ipython3",
   "version": "3.8.12"
  }
 },
 "nbformat": 4,
 "nbformat_minor": 5
}
